{
 "cells": [
  {
   "cell_type": "code",
   "execution_count": 1,
   "metadata": {},
   "outputs": [
    {
     "name": "stderr",
     "output_type": "stream",
     "text": [
      "Using TensorFlow backend.\n",
      "C:\\Users\\vaibh\\anaconda3\\lib\\site-packages\\tensorflow\\python\\framework\\dtypes.py:526: FutureWarning: Passing (type, 1) or '1type' as a synonym of type is deprecated; in a future version of numpy, it will be understood as (type, (1,)) / '(1,)type'.\n",
      "  _np_qint8 = np.dtype([(\"qint8\", np.int8, 1)])\n",
      "C:\\Users\\vaibh\\anaconda3\\lib\\site-packages\\tensorflow\\python\\framework\\dtypes.py:527: FutureWarning: Passing (type, 1) or '1type' as a synonym of type is deprecated; in a future version of numpy, it will be understood as (type, (1,)) / '(1,)type'.\n",
      "  _np_quint8 = np.dtype([(\"quint8\", np.uint8, 1)])\n",
      "C:\\Users\\vaibh\\anaconda3\\lib\\site-packages\\tensorflow\\python\\framework\\dtypes.py:528: FutureWarning: Passing (type, 1) or '1type' as a synonym of type is deprecated; in a future version of numpy, it will be understood as (type, (1,)) / '(1,)type'.\n",
      "  _np_qint16 = np.dtype([(\"qint16\", np.int16, 1)])\n",
      "C:\\Users\\vaibh\\anaconda3\\lib\\site-packages\\tensorflow\\python\\framework\\dtypes.py:529: FutureWarning: Passing (type, 1) or '1type' as a synonym of type is deprecated; in a future version of numpy, it will be understood as (type, (1,)) / '(1,)type'.\n",
      "  _np_quint16 = np.dtype([(\"quint16\", np.uint16, 1)])\n",
      "C:\\Users\\vaibh\\anaconda3\\lib\\site-packages\\tensorflow\\python\\framework\\dtypes.py:530: FutureWarning: Passing (type, 1) or '1type' as a synonym of type is deprecated; in a future version of numpy, it will be understood as (type, (1,)) / '(1,)type'.\n",
      "  _np_qint32 = np.dtype([(\"qint32\", np.int32, 1)])\n",
      "C:\\Users\\vaibh\\anaconda3\\lib\\site-packages\\tensorflow\\python\\framework\\dtypes.py:535: FutureWarning: Passing (type, 1) or '1type' as a synonym of type is deprecated; in a future version of numpy, it will be understood as (type, (1,)) / '(1,)type'.\n",
      "  np_resource = np.dtype([(\"resource\", np.ubyte, 1)])\n"
     ]
    }
   ],
   "source": [
    "#importing the libraries\n",
    "import nltk\n",
    "import numpy as np\n",
    "import matplotlib.pyplot as plt\n",
    "import pandas as pd\n",
    "import re\n",
    "import time\n",
    "from sklearn.feature_extraction.text import CountVectorizer\n",
    "from sklearn.model_selection import train_test_split\n",
    "from sklearn import preprocessing\n",
    "import keras\n",
    "from keras.models import Sequential\n",
    "from keras.layers import Dense\n",
    "from keras.models import load_model\n",
    "import pickle"
   ]
  },
  {
   "cell_type": "markdown",
   "metadata": {},
   "source": [
    "## Importing the Dataset"
   ]
  },
  {
   "cell_type": "code",
   "execution_count": null,
   "metadata": {},
   "outputs": [],
   "source": [
    "#loading the data\n",
    "data = pd.read_csv('20191226-reviews.csv')\n",
    "items = pd.read_csv('20191226-items.csv')"
   ]
  },
  {
   "cell_type": "code",
   "execution_count": null,
   "metadata": {},
   "outputs": [],
   "source": [
    "data"
   ]
  },
  {
   "cell_type": "code",
   "execution_count": 10,
   "metadata": {},
   "outputs": [
    {
     "data": {
      "text/html": [
       "<div>\n",
       "<style scoped>\n",
       "    .dataframe tbody tr th:only-of-type {\n",
       "        vertical-align: middle;\n",
       "    }\n",
       "\n",
       "    .dataframe tbody tr th {\n",
       "        vertical-align: top;\n",
       "    }\n",
       "\n",
       "    .dataframe thead th {\n",
       "        text-align: right;\n",
       "    }\n",
       "</style>\n",
       "<table border=\"1\" class=\"dataframe\">\n",
       "  <thead>\n",
       "    <tr style=\"text-align: right;\">\n",
       "      <th></th>\n",
       "      <th>asin</th>\n",
       "      <th>brand</th>\n",
       "      <th>title</th>\n",
       "      <th>url</th>\n",
       "      <th>image</th>\n",
       "      <th>rating</th>\n",
       "      <th>reviewUrl</th>\n",
       "      <th>totalReviews</th>\n",
       "      <th>price</th>\n",
       "      <th>originalPrice</th>\n",
       "    </tr>\n",
       "  </thead>\n",
       "  <tbody>\n",
       "    <tr>\n",
       "      <th>0</th>\n",
       "      <td>B0000SX2UC</td>\n",
       "      <td>NaN</td>\n",
       "      <td>Dual-Band / Tri-Mode Sprint PCS Phone w/ Voice...</td>\n",
       "      <td>https://www.amazon.com/Dual-Band-Tri-Mode-Acti...</td>\n",
       "      <td>https://m.media-amazon.com/images/I/2143EBQ210...</td>\n",
       "      <td>3.0</td>\n",
       "      <td>https://www.amazon.com/product-reviews/B0000SX2UC</td>\n",
       "      <td>14</td>\n",
       "      <td>0.00</td>\n",
       "      <td>0.00</td>\n",
       "    </tr>\n",
       "    <tr>\n",
       "      <th>1</th>\n",
       "      <td>B0009N5L7K</td>\n",
       "      <td>Motorola</td>\n",
       "      <td>Motorola I265 phone</td>\n",
       "      <td>https://www.amazon.com/Motorola-i265-I265-phon...</td>\n",
       "      <td>https://m.media-amazon.com/images/I/419WBAVDAR...</td>\n",
       "      <td>3.0</td>\n",
       "      <td>https://www.amazon.com/product-reviews/B0009N5L7K</td>\n",
       "      <td>7</td>\n",
       "      <td>49.95</td>\n",
       "      <td>0.00</td>\n",
       "    </tr>\n",
       "    <tr>\n",
       "      <th>2</th>\n",
       "      <td>B000SKTZ0S</td>\n",
       "      <td>Motorola</td>\n",
       "      <td>MOTOROLA C168i AT&amp;T CINGULAR PREPAID GOPHONE C...</td>\n",
       "      <td>https://www.amazon.com/MOTOROLA-C168i-CINGULAR...</td>\n",
       "      <td>https://m.media-amazon.com/images/I/71b+q3ydkI...</td>\n",
       "      <td>2.7</td>\n",
       "      <td>https://www.amazon.com/product-reviews/B000SKTZ0S</td>\n",
       "      <td>22</td>\n",
       "      <td>99.99</td>\n",
       "      <td>0.00</td>\n",
       "    </tr>\n",
       "    <tr>\n",
       "      <th>3</th>\n",
       "      <td>B001AO4OUC</td>\n",
       "      <td>Motorola</td>\n",
       "      <td>Motorola i335 Cell Phone Boost Mobile</td>\n",
       "      <td>https://www.amazon.com/Motorola-i335-Phone-Boo...</td>\n",
       "      <td>https://m.media-amazon.com/images/I/710UO8gdT+...</td>\n",
       "      <td>3.3</td>\n",
       "      <td>https://www.amazon.com/product-reviews/B001AO4OUC</td>\n",
       "      <td>21</td>\n",
       "      <td>0.00</td>\n",
       "      <td>0.00</td>\n",
       "    </tr>\n",
       "    <tr>\n",
       "      <th>4</th>\n",
       "      <td>B001DCJAJG</td>\n",
       "      <td>Motorola</td>\n",
       "      <td>Motorola V365 no contract cellular phone AT&amp;T</td>\n",
       "      <td>https://www.amazon.com/Motorola-V365-contract-...</td>\n",
       "      <td>https://m.media-amazon.com/images/I/61LYNCVrrK...</td>\n",
       "      <td>3.1</td>\n",
       "      <td>https://www.amazon.com/product-reviews/B001DCJAJG</td>\n",
       "      <td>12</td>\n",
       "      <td>149.99</td>\n",
       "      <td>0.00</td>\n",
       "    </tr>\n",
       "    <tr>\n",
       "      <th>...</th>\n",
       "      <td>...</td>\n",
       "      <td>...</td>\n",
       "      <td>...</td>\n",
       "      <td>...</td>\n",
       "      <td>...</td>\n",
       "      <td>...</td>\n",
       "      <td>...</td>\n",
       "      <td>...</td>\n",
       "      <td>...</td>\n",
       "      <td>...</td>\n",
       "    </tr>\n",
       "    <tr>\n",
       "      <th>715</th>\n",
       "      <td>B07ZPKZSSC</td>\n",
       "      <td>Apple</td>\n",
       "      <td>Apple iPhone 11 Pro, 64GB, Fully Unlocked - Sp...</td>\n",
       "      <td>https://www.amazon.com/Apple-iPhone-64GB-Fully...</td>\n",
       "      <td>https://m.media-amazon.com/images/I/41wDuEW9iZ...</td>\n",
       "      <td>1.0</td>\n",
       "      <td>https://www.amazon.com/product-reviews/B07ZPKZSSC</td>\n",
       "      <td>1</td>\n",
       "      <td>949.00</td>\n",
       "      <td>0.00</td>\n",
       "    </tr>\n",
       "    <tr>\n",
       "      <th>716</th>\n",
       "      <td>B07ZQSGP53</td>\n",
       "      <td>Xiaomi</td>\n",
       "      <td>Xiaomi Redmi Note 8, 32GB/3GB RAM 6.3\" FHD+ Di...</td>\n",
       "      <td>https://www.amazon.com/Xiaomi-Display-Snapdrag...</td>\n",
       "      <td>https://m.media-amazon.com/images/I/41foh4FKHE...</td>\n",
       "      <td>4.6</td>\n",
       "      <td>https://www.amazon.com/product-reviews/B07ZQSGP53</td>\n",
       "      <td>3</td>\n",
       "      <td>150.96</td>\n",
       "      <td>0.00</td>\n",
       "    </tr>\n",
       "    <tr>\n",
       "      <th>717</th>\n",
       "      <td>B081H6STQQ</td>\n",
       "      <td>Sony</td>\n",
       "      <td>Sony Xperia 1 Unlocked Smartphone and WH1000XM...</td>\n",
       "      <td>https://www.amazon.com/Sony-Smartphone-WH1000X...</td>\n",
       "      <td>https://m.media-amazon.com/images/I/51zZTAXZTP...</td>\n",
       "      <td>4.5</td>\n",
       "      <td>https://www.amazon.com/product-reviews/B081H6STQQ</td>\n",
       "      <td>70</td>\n",
       "      <td>948.00</td>\n",
       "      <td>0.00</td>\n",
       "    </tr>\n",
       "    <tr>\n",
       "      <th>718</th>\n",
       "      <td>B081TJFVCJ</td>\n",
       "      <td>Apple</td>\n",
       "      <td>Apple iPhone X, 64GB, Gray - Fully Unlocked (R...</td>\n",
       "      <td>https://www.amazon.com/Apple-iPhone-64GB-Gray-...</td>\n",
       "      <td>https://m.media-amazon.com/images/I/71yMgOenT5...</td>\n",
       "      <td>5.0</td>\n",
       "      <td>https://www.amazon.com/product-reviews/B081TJFVCJ</td>\n",
       "      <td>1</td>\n",
       "      <td>478.97</td>\n",
       "      <td>0.00</td>\n",
       "    </tr>\n",
       "    <tr>\n",
       "      <th>719</th>\n",
       "      <td>B0825BB7SG</td>\n",
       "      <td>Samsung</td>\n",
       "      <td>Straight Talk Samsung Galaxy A10e Smartphone 5...</td>\n",
       "      <td>https://www.amazon.com/Straight-Samsung-Galaxy...</td>\n",
       "      <td>https://m.media-amazon.com/images/I/81+3SWSAhD...</td>\n",
       "      <td>5.0</td>\n",
       "      <td>https://www.amazon.com/product-reviews/B0825BB7SG</td>\n",
       "      <td>1</td>\n",
       "      <td>139.00</td>\n",
       "      <td>139.26</td>\n",
       "    </tr>\n",
       "  </tbody>\n",
       "</table>\n",
       "<p>720 rows × 10 columns</p>\n",
       "</div>"
      ],
      "text/plain": [
       "           asin     brand                                              title  \\\n",
       "0    B0000SX2UC       NaN  Dual-Band / Tri-Mode Sprint PCS Phone w/ Voice...   \n",
       "1    B0009N5L7K  Motorola                                Motorola I265 phone   \n",
       "2    B000SKTZ0S  Motorola  MOTOROLA C168i AT&T CINGULAR PREPAID GOPHONE C...   \n",
       "3    B001AO4OUC  Motorola              Motorola i335 Cell Phone Boost Mobile   \n",
       "4    B001DCJAJG  Motorola      Motorola V365 no contract cellular phone AT&T   \n",
       "..          ...       ...                                                ...   \n",
       "715  B07ZPKZSSC     Apple  Apple iPhone 11 Pro, 64GB, Fully Unlocked - Sp...   \n",
       "716  B07ZQSGP53    Xiaomi  Xiaomi Redmi Note 8, 32GB/3GB RAM 6.3\" FHD+ Di...   \n",
       "717  B081H6STQQ      Sony  Sony Xperia 1 Unlocked Smartphone and WH1000XM...   \n",
       "718  B081TJFVCJ     Apple  Apple iPhone X, 64GB, Gray - Fully Unlocked (R...   \n",
       "719  B0825BB7SG   Samsung  Straight Talk Samsung Galaxy A10e Smartphone 5...   \n",
       "\n",
       "                                                   url  \\\n",
       "0    https://www.amazon.com/Dual-Band-Tri-Mode-Acti...   \n",
       "1    https://www.amazon.com/Motorola-i265-I265-phon...   \n",
       "2    https://www.amazon.com/MOTOROLA-C168i-CINGULAR...   \n",
       "3    https://www.amazon.com/Motorola-i335-Phone-Boo...   \n",
       "4    https://www.amazon.com/Motorola-V365-contract-...   \n",
       "..                                                 ...   \n",
       "715  https://www.amazon.com/Apple-iPhone-64GB-Fully...   \n",
       "716  https://www.amazon.com/Xiaomi-Display-Snapdrag...   \n",
       "717  https://www.amazon.com/Sony-Smartphone-WH1000X...   \n",
       "718  https://www.amazon.com/Apple-iPhone-64GB-Gray-...   \n",
       "719  https://www.amazon.com/Straight-Samsung-Galaxy...   \n",
       "\n",
       "                                                 image  rating  \\\n",
       "0    https://m.media-amazon.com/images/I/2143EBQ210...     3.0   \n",
       "1    https://m.media-amazon.com/images/I/419WBAVDAR...     3.0   \n",
       "2    https://m.media-amazon.com/images/I/71b+q3ydkI...     2.7   \n",
       "3    https://m.media-amazon.com/images/I/710UO8gdT+...     3.3   \n",
       "4    https://m.media-amazon.com/images/I/61LYNCVrrK...     3.1   \n",
       "..                                                 ...     ...   \n",
       "715  https://m.media-amazon.com/images/I/41wDuEW9iZ...     1.0   \n",
       "716  https://m.media-amazon.com/images/I/41foh4FKHE...     4.6   \n",
       "717  https://m.media-amazon.com/images/I/51zZTAXZTP...     4.5   \n",
       "718  https://m.media-amazon.com/images/I/71yMgOenT5...     5.0   \n",
       "719  https://m.media-amazon.com/images/I/81+3SWSAhD...     5.0   \n",
       "\n",
       "                                             reviewUrl  totalReviews   price  \\\n",
       "0    https://www.amazon.com/product-reviews/B0000SX2UC            14    0.00   \n",
       "1    https://www.amazon.com/product-reviews/B0009N5L7K             7   49.95   \n",
       "2    https://www.amazon.com/product-reviews/B000SKTZ0S            22   99.99   \n",
       "3    https://www.amazon.com/product-reviews/B001AO4OUC            21    0.00   \n",
       "4    https://www.amazon.com/product-reviews/B001DCJAJG            12  149.99   \n",
       "..                                                 ...           ...     ...   \n",
       "715  https://www.amazon.com/product-reviews/B07ZPKZSSC             1  949.00   \n",
       "716  https://www.amazon.com/product-reviews/B07ZQSGP53             3  150.96   \n",
       "717  https://www.amazon.com/product-reviews/B081H6STQQ            70  948.00   \n",
       "718  https://www.amazon.com/product-reviews/B081TJFVCJ             1  478.97   \n",
       "719  https://www.amazon.com/product-reviews/B0825BB7SG             1  139.00   \n",
       "\n",
       "     originalPrice  \n",
       "0             0.00  \n",
       "1             0.00  \n",
       "2             0.00  \n",
       "3             0.00  \n",
       "4             0.00  \n",
       "..             ...  \n",
       "715           0.00  \n",
       "716           0.00  \n",
       "717           0.00  \n",
       "718           0.00  \n",
       "719         139.26  \n",
       "\n",
       "[720 rows x 10 columns]"
      ]
     },
     "execution_count": 10,
     "metadata": {},
     "output_type": "execute_result"
    }
   ],
   "source": [
    "items"
   ]
  },
  {
   "cell_type": "code",
   "execution_count": 12,
   "metadata": {},
   "outputs": [
    {
     "name": "stderr",
     "output_type": "stream",
     "text": [
      "[nltk_data] Downloading package stopwords to\n",
      "[nltk_data]     C:\\Users\\vaibh\\AppData\\Roaming\\nltk_data...\n",
      "[nltk_data]   Package stopwords is already up-to-date!\n"
     ]
    }
   ],
   "source": [
    "# stopwords and stemming\n",
    "nltk.download('stopwords')\n",
    "from nltk.corpus import stopwords\n",
    "from nltk.stem.porter import PorterStemmer"
   ]
  },
  {
   "cell_type": "markdown",
   "metadata": {},
   "source": [
    "## Removing Punctuations & Number"
   ]
  },
  {
   "cell_type": "code",
   "execution_count": 54,
   "metadata": {},
   "outputs": [],
   "source": [
    "def remove_PN(data):\n",
    "    review = []\n",
    "    for i in range(data.shape[0]):\n",
    "        review.append(re.sub('[^a-zA-Z]' , ' ' , str(data[i])))\n",
    "    return review"
   ]
  },
  {
   "cell_type": "code",
   "execution_count": 55,
   "metadata": {},
   "outputs": [],
   "source": [
    "review = remove_PN(data['body'])"
   ]
  },
  {
   "cell_type": "code",
   "execution_count": 56,
   "metadata": {},
   "outputs": [
    {
     "data": {
      "text/plain": [
       "67986"
      ]
     },
     "execution_count": 56,
     "metadata": {},
     "output_type": "execute_result"
    }
   ],
   "source": [
    "len(review)"
   ]
  },
  {
   "cell_type": "code",
   "execution_count": 57,
   "metadata": {},
   "outputs": [
    {
     "data": {
      "text/plain": [
       "'I had the Samsung A    for awhile which is absolute doo doo  You can read my review on it and detect my rage at the stupid thing  It finally died on me so I used this Nokia phone I bought in a garage sale for     I wonder y she sold it so cheap     Bad       I hate the menu  It takes forever to get to what you want because you have to scroll endlessly  Usually phones have numbered categories so u can simply press the   and get where you want to go       It s a pain to put it on silent or vibrate  If you re in class and it rings  you have to turn it off immediately  There s no fast way to silence the damn thing  Always remember to put it on silent  I learned that the hard way       It s so true about the case  It s a mission to get off and will break ur nails in the process  Also  you ll damage the case each time u try  For some reason the phone started giving me problems once I did succeed in opening it       Buttons could be a bit bigger  Vibration could be stronger  Good       Reception is not too shabby  I was using it in the elevator which is a remarkable feat considering my old phone would lose service by simply putting it in my pocket       Compared to my old Samsung  this phone works quite well  The ring tones are loud enough to hear and the phone actually charges quickly and has great battery life  It doesn t heat up like a potatoe in the oven either during long phone convos       Nice bright  large screen       Cute ways to customize it  Scroll bar can be set to purple  pink  aqua  orange  etc  Overall  Okay phone  It serves its purpose but definitely pales in comparison to these new phones coming out from Sprint  Why get so so when you can get great '"
      ]
     },
     "execution_count": 57,
     "metadata": {},
     "output_type": "execute_result"
    }
   ],
   "source": [
    "review[0]"
   ]
  },
  {
   "cell_type": "markdown",
   "metadata": {},
   "source": [
    "## Convert each word into Lowercase"
   ]
  },
  {
   "cell_type": "code",
   "execution_count": 58,
   "metadata": {},
   "outputs": [],
   "source": [
    "def to_lower(data):\n",
    "    review = []\n",
    "    for i in range(len(data)):\n",
    "        review.append(data[i].lower())\n",
    "    return review"
   ]
  },
  {
   "cell_type": "code",
   "execution_count": 59,
   "metadata": {},
   "outputs": [],
   "source": [
    "review = to_lower(review)"
   ]
  },
  {
   "cell_type": "code",
   "execution_count": 61,
   "metadata": {},
   "outputs": [
    {
     "data": {
      "text/plain": [
       "'i had the samsung a    for awhile which is absolute doo doo  you can read my review on it and detect my rage at the stupid thing  it finally died on me so i used this nokia phone i bought in a garage sale for     i wonder y she sold it so cheap     bad       i hate the menu  it takes forever to get to what you want because you have to scroll endlessly  usually phones have numbered categories so u can simply press the   and get where you want to go       it s a pain to put it on silent or vibrate  if you re in class and it rings  you have to turn it off immediately  there s no fast way to silence the damn thing  always remember to put it on silent  i learned that the hard way       it s so true about the case  it s a mission to get off and will break ur nails in the process  also  you ll damage the case each time u try  for some reason the phone started giving me problems once i did succeed in opening it       buttons could be a bit bigger  vibration could be stronger  good       reception is not too shabby  i was using it in the elevator which is a remarkable feat considering my old phone would lose service by simply putting it in my pocket       compared to my old samsung  this phone works quite well  the ring tones are loud enough to hear and the phone actually charges quickly and has great battery life  it doesn t heat up like a potatoe in the oven either during long phone convos       nice bright  large screen       cute ways to customize it  scroll bar can be set to purple  pink  aqua  orange  etc  overall  okay phone  it serves its purpose but definitely pales in comparison to these new phones coming out from sprint  why get so so when you can get great '"
      ]
     },
     "execution_count": 61,
     "metadata": {},
     "output_type": "execute_result"
    }
   ],
   "source": [
    "review[0]"
   ]
  },
  {
   "cell_type": "markdown",
   "metadata": {},
   "source": [
    "## Apply Stemming"
   ]
  },
  {
   "cell_type": "code",
   "execution_count": 63,
   "metadata": {},
   "outputs": [],
   "source": [
    "def to_Steam(data):\n",
    "    review = []\n",
    "    ps = PorterStemmer()\n",
    "    for i in range(len(data)):\n",
    "        sent = data[i].split()\n",
    "        sent = [ps.stem(word) for word in sent if word not in set(stopwords.words('english'))]\n",
    "        sent = ' '.join(sent)\n",
    "        review.append(sent)\n",
    "    return review"
   ]
  },
  {
   "cell_type": "code",
   "execution_count": 75,
   "metadata": {},
   "outputs": [
    {
     "name": "stdout",
     "output_type": "stream",
     "text": [
      "Wall time: 31min 10s\n"
     ]
    }
   ],
   "source": [
    "%%time\n",
    "revew = to_Steam(review)"
   ]
  },
  {
   "cell_type": "markdown",
   "metadata": {},
   "source": [
    "## Creating Features"
   ]
  },
  {
   "cell_type": "code",
   "execution_count": 317,
   "metadata": {},
   "outputs": [],
   "source": [
    "cv = CountVectorizer(max_features = 2000 , decode_error = False)"
   ]
  },
  {
   "cell_type": "code",
   "execution_count": 318,
   "metadata": {},
   "outputs": [],
   "source": [
    "count = cv.fit_transform(review)\n",
    "X = count.toarray()"
   ]
  },
  {
   "cell_type": "code",
   "execution_count": 319,
   "metadata": {},
   "outputs": [],
   "source": [
    "y = data['rating']\n",
    "le = preprocessing.LabelEncoder()\n",
    "y = le.fit_transform(y)"
   ]
  },
  {
   "cell_type": "code",
   "execution_count": 320,
   "metadata": {},
   "outputs": [],
   "source": [
    "y = keras.utils.np_utils.to_categorical(y)"
   ]
  },
  {
   "cell_type": "code",
   "execution_count": 323,
   "metadata": {},
   "outputs": [],
   "source": [
    "with open('feature.pkl', 'wb') as file:\n",
    "    pickle.dump(cv.vocabulary_ ,file)"
   ]
  },
  {
   "cell_type": "markdown",
   "metadata": {},
   "source": [
    "## Train Test Split"
   ]
  },
  {
   "cell_type": "code",
   "execution_count": 324,
   "metadata": {},
   "outputs": [],
   "source": [
    "X_train , X_test, y_train , y_test = train_test_split(X , y , test_size = 0.20 , random_state = 10)"
   ]
  },
  {
   "cell_type": "markdown",
   "metadata": {},
   "source": [
    "# Model Building"
   ]
  },
  {
   "cell_type": "markdown",
   "metadata": {},
   "source": [
    "## Initializing Model"
   ]
  },
  {
   "cell_type": "code",
   "execution_count": 325,
   "metadata": {},
   "outputs": [],
   "source": [
    "model = Sequential()"
   ]
  },
  {
   "cell_type": "markdown",
   "metadata": {},
   "source": [
    "## Adding Input Layer\n"
   ]
  },
  {
   "cell_type": "code",
   "execution_count": 326,
   "metadata": {},
   "outputs": [],
   "source": [
    "model.add(Dense(128 , activation = 'relu' , input_dim = 2000 , name = 'input_1'))"
   ]
  },
  {
   "cell_type": "markdown",
   "metadata": {},
   "source": [
    "## Adding Hidden Layer"
   ]
  },
  {
   "cell_type": "code",
   "execution_count": 327,
   "metadata": {},
   "outputs": [],
   "source": [
    "model.add(Dense(32 , activation = 'relu' , name = 'dense_1'))"
   ]
  },
  {
   "cell_type": "markdown",
   "metadata": {},
   "source": [
    "## Adding Output Layer"
   ]
  },
  {
   "cell_type": "code",
   "execution_count": 328,
   "metadata": {},
   "outputs": [],
   "source": [
    "model.add(Dense(5 , activation = 'softmax' , name = 'output_1'))"
   ]
  },
  {
   "cell_type": "markdown",
   "metadata": {},
   "source": [
    "## Configuring the learning process"
   ]
  },
  {
   "cell_type": "code",
   "execution_count": 329,
   "metadata": {},
   "outputs": [],
   "source": [
    "model.compile(optimizer='adam' , loss = 'categorical_crossentropy' , metrics = ['accuracy'])"
   ]
  },
  {
   "cell_type": "markdown",
   "metadata": {},
   "source": [
    "## Training Model"
   ]
  },
  {
   "cell_type": "code",
   "execution_count": 330,
   "metadata": {},
   "outputs": [
    {
     "name": "stdout",
     "output_type": "stream",
     "text": [
      "Epoch 1/25\n",
      "54388/54388 [==============================] - 3s 56us/step - loss: 0.8837 - accuracy: 0.6859\n",
      "Epoch 2/25\n",
      "54388/54388 [==============================] - 3s 52us/step - loss: 0.7139 - accuracy: 0.7350\n",
      "Epoch 3/25\n",
      "54388/54388 [==============================] - 3s 51us/step - loss: 0.6352 - accuracy: 0.7628\n",
      "Epoch 4/25\n",
      "54388/54388 [==============================] - 3s 50us/step - loss: 0.5487 - accuracy: 0.7997\n",
      "Epoch 5/25\n",
      "54388/54388 [==============================] - 3s 60us/step - loss: 0.4533 - accuracy: 0.8413\n",
      "Epoch 6/25\n",
      "54388/54388 [==============================] - 3s 52us/step - loss: 0.3612 - accuracy: 0.8789\n",
      "Epoch 7/25\n",
      "54388/54388 [==============================] - 3s 49us/step - loss: 0.2874 - accuracy: 0.9083\n",
      "Epoch 8/25\n",
      "54388/54388 [==============================] - 3s 50us/step - loss: 0.2375 - accuracy: 0.9264\n",
      "Epoch 9/25\n",
      "54388/54388 [==============================] - 3s 49us/step - loss: 0.2010 - accuracy: 0.9391\n",
      "Epoch 10/25\n",
      "54388/54388 [==============================] - 3s 52us/step - loss: 0.1714 - accuracy: 0.9489\n",
      "Epoch 11/25\n",
      "54388/54388 [==============================] - 3s 56us/step - loss: 0.1537 - accuracy: 0.9539\n",
      "Epoch 12/25\n",
      "54388/54388 [==============================] - 3s 52us/step - loss: 0.1283 - accuracy: 0.9628\n",
      "Epoch 13/25\n",
      "54388/54388 [==============================] - 3s 54us/step - loss: 0.1330 - accuracy: 0.9595\n",
      "Epoch 14/25\n",
      "54388/54388 [==============================] - 3s 53us/step - loss: 0.1196 - accuracy: 0.9642\n",
      "Epoch 15/25\n",
      "54388/54388 [==============================] - 3s 48us/step - loss: 0.1170 - accuracy: 0.9650\n",
      "Epoch 16/25\n",
      "54388/54388 [==============================] - 3s 54us/step - loss: 0.1111 - accuracy: 0.9663\n",
      "Epoch 17/25\n",
      "54388/54388 [==============================] - 3s 58us/step - loss: 0.0978 - accuracy: 0.9701\n",
      "Epoch 18/25\n",
      "54388/54388 [==============================] - 3s 49us/step - loss: 0.0861 - accuracy: 0.9740\n",
      "Epoch 19/25\n",
      "54388/54388 [==============================] - 3s 50us/step - loss: 0.1019 - accuracy: 0.9692\n",
      "Epoch 20/25\n",
      "54388/54388 [==============================] - 3s 49us/step - loss: 0.0993 - accuracy: 0.9693\n",
      "Epoch 21/25\n",
      "54388/54388 [==============================] - 3s 52us/step - loss: 0.0866 - accuracy: 0.9731\n",
      "Epoch 22/25\n",
      "54388/54388 [==============================] - 3s 60us/step - loss: 0.0875 - accuracy: 0.9731\n",
      "Epoch 23/25\n",
      "54388/54388 [==============================] - 3s 50us/step - loss: 0.0968 - accuracy: 0.9704\n",
      "Epoch 24/25\n",
      "54388/54388 [==============================] - 3s 50us/step - loss: 0.0895 - accuracy: 0.9717\n",
      "Epoch 25/25\n",
      "54388/54388 [==============================] - 3s 50us/step - loss: 0.0778 - accuracy: 0.9759\n"
     ]
    },
    {
     "data": {
      "text/plain": [
       "<keras.callbacks.callbacks.History at 0x296de2c2548>"
      ]
     },
     "execution_count": 330,
     "metadata": {},
     "output_type": "execute_result"
    }
   ],
   "source": [
    "model.fit(X_train , y_train , epochs = 25 , batch_size = 128)"
   ]
  },
  {
   "cell_type": "markdown",
   "metadata": {},
   "source": [
    "## Saving Model"
   ]
  },
  {
   "cell_type": "code",
   "execution_count": 331,
   "metadata": {},
   "outputs": [],
   "source": [
    "model.save('mymodel.h5')"
   ]
  },
  {
   "cell_type": "markdown",
   "metadata": {},
   "source": [
    "## Prediction"
   ]
  },
  {
   "cell_type": "code",
   "execution_count": 332,
   "metadata": {},
   "outputs": [],
   "source": [
    "# Laod The Model\n",
    "model = load_model('mymodel.h5')"
   ]
  },
  {
   "cell_type": "code",
   "execution_count": 333,
   "metadata": {},
   "outputs": [],
   "source": [
    "Labels = [1, 2, 3, 4, 5]"
   ]
  },
  {
   "cell_type": "code",
   "execution_count": 334,
   "metadata": {},
   "outputs": [],
   "source": [
    "def Predict(data):\n",
    "    pred = model.predict(data)\n",
    "    pred = np.argmax(pred , axis = 1)\n",
    "    result = [Labels[i] for i in pred]\n",
    "    return result"
   ]
  },
  {
   "cell_type": "code",
   "execution_count": 335,
   "metadata": {},
   "outputs": [],
   "source": [
    "result = Predict(X_test[:10])"
   ]
  },
  {
   "cell_type": "code",
   "execution_count": 336,
   "metadata": {},
   "outputs": [
    {
     "data": {
      "text/plain": [
       "[1, 5, 5, 1, 5, 5, 5, 5, 5, 5]"
      ]
     },
     "execution_count": 336,
     "metadata": {},
     "output_type": "execute_result"
    }
   ],
   "source": [
    "result"
   ]
  },
  {
   "cell_type": "code",
   "execution_count": 337,
   "metadata": {},
   "outputs": [],
   "source": [
    "real = [Labels[i] for i in np.argmax(y_test[:10] , axis =1)]"
   ]
  },
  {
   "cell_type": "code",
   "execution_count": 338,
   "metadata": {},
   "outputs": [
    {
     "data": {
      "text/plain": [
       "[1, 5, 5, 1, 5, 5, 4, 5, 5, 5]"
      ]
     },
     "execution_count": 338,
     "metadata": {},
     "output_type": "execute_result"
    }
   ],
   "source": [
    "real"
   ]
  },
  {
   "cell_type": "markdown",
   "metadata": {},
   "source": [
    "### New Example"
   ]
  },
  {
   "cell_type": "code",
   "execution_count": 354,
   "metadata": {},
   "outputs": [],
   "source": [
    "text = ['it is very bad product']\n",
    "loaded_vec = CountVectorizer(decode_error=\"replace\",vocabulary=pickle.load(open(\"feature.pkl\", \"rb\")))"
   ]
  },
  {
   "cell_type": "code",
   "execution_count": 355,
   "metadata": {},
   "outputs": [],
   "source": [
    "text = loaded_vec.fit_transform(text).toarray()"
   ]
  },
  {
   "cell_type": "code",
   "execution_count": 356,
   "metadata": {},
   "outputs": [
    {
     "data": {
      "text/plain": [
       "(1, 2000)"
      ]
     },
     "execution_count": 356,
     "metadata": {},
     "output_type": "execute_result"
    }
   ],
   "source": [
    "text.shape"
   ]
  },
  {
   "cell_type": "code",
   "execution_count": 357,
   "metadata": {},
   "outputs": [
    {
     "data": {
      "text/plain": [
       "[1]"
      ]
     },
     "execution_count": 357,
     "metadata": {},
     "output_type": "execute_result"
    }
   ],
   "source": [
    "result = Predict(text)\n",
    "result"
   ]
  },
  {
   "cell_type": "code",
   "execution_count": null,
   "metadata": {},
   "outputs": [],
   "source": []
  }
 ],
 "metadata": {
  "kernelspec": {
   "display_name": "Python 3",
   "language": "python",
   "name": "python3"
  },
  "language_info": {
   "codemirror_mode": {
    "name": "ipython",
    "version": 3
   },
   "file_extension": ".py",
   "mimetype": "text/x-python",
   "name": "python",
   "nbconvert_exporter": "python",
   "pygments_lexer": "ipython3",
   "version": "3.7.7"
  }
 },
 "nbformat": 4,
 "nbformat_minor": 4
}
